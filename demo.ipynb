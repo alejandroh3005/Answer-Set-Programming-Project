{
 "cells": [
  {
   "cell_type": "markdown",
   "metadata": {},
   "source": [
    "# Answer Set Programming with Sudoku"
   ]
  },
  {
   "cell_type": "markdown",
   "metadata": {},
   "source": [
    "## Classic Sudoku (First Example)"
   ]
  },
  {
   "cell_type": "code",
   "execution_count": null,
   "metadata": {},
   "outputs": [],
   "source": [
    "# Image of problem\n",
    "from IPython.display import Image\n",
    "Image(filename='./Sudoku Game Types/Classic Sudoku/sudokuExample.jpeg') "
   ]
  },
  {
   "cell_type": "code",
   "execution_count": null,
   "metadata": {
    "scrolled": true
   },
   "outputs": [],
   "source": [
    "# Set Example\n",
    "!python ./tools/sudoku_problem_viz.py \"./Sudoku Game Types/Classic Sudoku/classic-sudoku-problem.lp\""
   ]
  },
  {
   "cell_type": "code",
   "execution_count": null,
   "metadata": {},
   "outputs": [],
   "source": [
    "# Run Solver\n",
    "!clingo \"./Sudoku Game Types/Classic Sudoku/classic-sudoku-problem.lp\" \"./Sudoku Game Types/Classic Sudoku/classic-sudoku.lp\" -n 0\n",
    "!clingo \"./Sudoku Game Types/Classic Sudoku/classic-sudoku-problem.lp\" \"./Sudoku Game Types/Classic Sudoku/classic-sudoku.lp\" -n 0 > \"./Sudoku Game Types/Classic Sudoku/classic-solution.txt\""
   ]
  },
  {
   "cell_type": "code",
   "execution_count": null,
   "metadata": {},
   "outputs": [],
   "source": [
    "# Visualize Solution\n",
    "!python ./tools/sudoku_solution_viz.py \"./Sudoku Game Types/Classic Sudoku/classic-solution.txt\""
   ]
  },
  {
   "cell_type": "markdown",
   "metadata": {},
   "source": [
    "## Classic Sudoku (Generated Example)"
   ]
  },
  {
   "cell_type": "code",
   "execution_count": null,
   "metadata": {},
   "outputs": [],
   "source": [
    "# For seed\n",
    "!echo %RANDOM%"
   ]
  },
  {
   "cell_type": "code",
   "execution_count": null,
   "metadata": {
    "scrolled": true
   },
   "outputs": [],
   "source": [
    "# Generate a problem and display example\n",
    "# Generate a full board and save it as txt file\n",
    "# DO NOT SET THIRD COMMAND LINE ARG '-n' TO ZERO\n",
    "# Change seed to see different boards built\n",
    "!clingo -n 1 --rand-freq=1 --seed=12345 \"./Sudoku Game Types/Classic Sudoku/classic-sudoku.lp\" > \"./generated/classic_board_gen.txt\"\n",
    "# Display Full Board\n",
    "!python ./tools/sudoku_solution_viz.py \"./generated/classic_board_gen.txt\""
   ]
  },
  {
   "cell_type": "code",
   "execution_count": null,
   "metadata": {},
   "outputs": [],
   "source": [
    "# 70% to remove an entry\n",
    "!python ./tools/sudoku_remove.py \"./generated/classic_board_gen.txt\" 0.8 \"./generated/classic_problem_gen.lp\"\n",
    "# Display Problem\n",
    "!python ./tools/sudoku_problem_viz.py \"./generated/classic_problem_gen.lp\""
   ]
  },
  {
   "cell_type": "code",
   "execution_count": null,
   "metadata": {},
   "outputs": [],
   "source": [
    "# Run solver\n",
    "# May find different solution than expected\n",
    "!clingo \"./generated/classic_problem_gen.lp\" \"./Sudoku Game Types/Classic Sudoku/classic-sudoku.lp\" -n 1 > \"./generated/classic_solution_gen.txt\"\n",
    "# Visualize Solution\n",
    "!python ./tools/sudoku_solution_viz.py \"./generated/classic_solution_gen.txt\""
   ]
  },
  {
   "cell_type": "markdown",
   "metadata": {},
   "source": [
    "## Diagonal Sudoku (Generated Example)"
   ]
  },
  {
   "cell_type": "code",
   "execution_count": null,
   "metadata": {},
   "outputs": [],
   "source": [
    "# For seed\n",
    "!echo %RANDOM%"
   ]
  },
  {
   "cell_type": "code",
   "execution_count": null,
   "metadata": {
    "scrolled": true
   },
   "outputs": [],
   "source": [
    "# Generate a problem and display example\n",
    "# Generate a full board and save it as txt file\n",
    "# DO NOT SET THIRD COMMAND LINE ARG '-n' TO ZERO\n",
    "# Change seed to see different boards built\n",
    "!clingo -n 1 --rand-freq=1 --seed=12345 \"./Sudoku Game Types/Diagonal Sudoku/diagonal-sudoku.lp\" > \"./generated/diagonal_board_gen.txt\"\n",
    "# Display Full Board\n",
    "!python ./tools/sudoku_solution_viz.py \"./generated/diagonal_board_gen.txt\""
   ]
  },
  {
   "cell_type": "code",
   "execution_count": null,
   "metadata": {},
   "outputs": [],
   "source": [
    "# 70% to remove an entry\n",
    "!python ./tools/sudoku_remove.py \"./generated/diagonal_board_gen.txt\" 0.8 \"./generated/diagonal_problem_gen.lp\"\n",
    "# Display Problem\n",
    "!python ./tools/sudoku_problem_viz.py \"./generated/diagonal_problem_gen.lp\""
   ]
  },
  {
   "cell_type": "code",
   "execution_count": null,
   "metadata": {},
   "outputs": [],
   "source": [
    "# Run solver\n",
    "# May find different solution than expected\n",
    "!clingo \"./generated/diagonal_problem_gen.lp\" \"./Sudoku Game Types/Diagonal Sudoku/diagonal-sudoku.lp\" -n 1 > \"./generated/diagonal_solution_gen.txt\"\n",
    "# Visualize Solution\n",
    "!python ./tools/sudoku_solution_viz.py \"./generated/diagonal_solution_gen.txt\""
   ]
  }
 ],
 "metadata": {
  "kernelspec": {
   "display_name": "Python 3",
   "language": "python",
   "name": "python3"
  },
  "language_info": {
   "codemirror_mode": {
    "name": "ipython",
    "version": 3
   },
   "file_extension": ".py",
   "mimetype": "text/x-python",
   "name": "python",
   "nbconvert_exporter": "python",
   "pygments_lexer": "ipython3",
   "version": "3.8.8"
  }
 },
 "nbformat": 4,
 "nbformat_minor": 2
}