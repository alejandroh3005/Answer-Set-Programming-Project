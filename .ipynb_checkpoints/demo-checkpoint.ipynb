{
 "cells": [
  {
   "cell_type": "markdown",
   "metadata": {},
   "source": [
    "# Answer Set Programming with Sudoku"
   ]
  },
  {
   "cell_type": "markdown",
   "metadata": {},
   "source": [
    "## Classic Sudoku (Set Example)"
   ]
  },
  {
   "cell_type": "code",
   "execution_count": 2,
   "metadata": {},
   "outputs": [
    {
     "data": {
      "image/jpeg": "[encoded data removed]",
      "text/plain": [
       "<IPython.core.display.Image object>"
      ]
     },
     "execution_count": 2,
     "metadata": {},
     "output_type": "execute_result"
    }
   ],
   "source": [
    "from IPython.display import Image\n",
    "Image(filename='./Sudoku Game Types/Classic Sudoku/sudokuExample.jpeg') "
   ]
  },
  {
   "cell_type": "code",
   "execution_count": 3,
   "metadata": {},
   "outputs": [
    {
     "name": "stdout",
     "output_type": "stream",
     "text": [
      "- - - - - - 2 - - \n",
      "- 8 - - - 7 - 9 - \n",
      "6 - 2 - - - 5 - - \n",
      "- 7 - - 6 - - - - \n",
      "- - - 9 - 1 - - - \n",
      "- - - - 2 - - 4 - \n",
      "- - 5 - - - 6 - 3 \n",
      "- 9 - 4 - - - 7 - \n",
      "- - 6 - - - - - - \n",
      "\u001b[0m \n"
     ]
    }
   ],
   "source": [
    "# Set Example\n",
    "!python ./tools/sudoku_problem_viz.py \"./Sudoku Game Types/Classic Sudoku/classic-sudoku-problem.lp\""
   ]
  },
  {
   "cell_type": "code",
   "execution_count": 35,
   "metadata": {
    "collapsed": true
   },
   "outputs": [
    {
     "name": "stdout",
     "output_type": "stream",
     "text": [
      "clingo version 5.5.0\n",
      "Reading from ...assic Sudoku/classic-sudoku-problem.lp ...\n",
      "Solving...\n",
      "Answer: 1\n",
      "sudoku(1,7,2) sudoku(2,2,8) sudoku(2,6,7) sudoku(2,8,9) sudoku(3,1,6) sudoku(3,3,2) sudoku(3,7,5) sudoku(4,2,7) sudoku(4,5,6) sudoku(5,4,9) sudoku(5,6,1) sudoku(6,5,2) sudoku(6,8,4) sudoku(7,3,5) sudoku(7,7,6) sudoku(7,9,3) sudoku(8,2,9) sudoku(8,4,4) sudoku(8,8,7) sudoku(9,3,6) sudoku(1,1,9) sudoku(3,2,1) sudoku(2,3,3) sudoku(2,1,4) sudoku(1,2,5) sudoku(1,3,7) sudoku(4,1,1) sudoku(5,2,2) sudoku(6,2,6) sudoku(5,3,4) sudoku(6,3,9) sudoku(5,1,5) sudoku(4,3,8) sudoku(6,1,3) sudoku(7,1,8) sudoku(9,2,3) sudoku(8,3,1) sudoku(8,1,2) sudoku(7,2,4) sudoku(9,1,7) sudoku(2,5,5) sudoku(1,4,6) sudoku(3,5,4) sudoku(3,6,9) sudoku(1,5,1) sudoku(2,4,2) sudoku(1,6,3) sudoku(3,4,8) sudoku(4,4,3) sudoku(5,5,7) sudoku(6,6,8) sudoku(4,6,4) sudoku(6,4,5) sudoku(8,5,3) sudoku(7,4,7) sudoku(9,5,8) sudoku(8,6,6) sudoku(9,6,5) sudoku(7,5,9) sudoku(7,6,2) sudoku(9,4,1) sudoku(3,8,3) sudoku(2,9,6) sudoku(3,9,7) sudoku(2,7,1) sudoku(1,8,8) sudoku(1,9,4) sudoku(5,8,6) sudoku(4,7,9) sudoku(5,9,8) sudoku(6,9,1) sudoku(5,7,3) sudoku(4,8,5) sudoku(4,9,2) sudoku(6,7,7) sudoku(9,8,2) sudoku(8,9,5) sudoku(9,9,9) sudoku(7,8,1) sudoku(8,7,8) sudoku(9,7,4)\n",
      "SATISFIABLE\n",
      "\n",
      "Models       : 1\n",
      "Calls        : 1\n",
      "Time         : 0.020s (Solving: 0.00s 1st Model: 0.00s Unsat: 0.00s)\n",
      "CPU Time     : 0.016s\n"
     ]
    }
   ],
   "source": [
    "# Run Solver\n",
    "!clingo \"./Sudoku Game Types/Classic Sudoku/classic-sudoku-problem.lp\" \"./Sudoku Game Types/Classic Sudoku/classic-sudoku.lp\" -n 0\n",
    "!clingo \"./Sudoku Game Types/Classic Sudoku/classic-sudoku-problem.lp\" \"./Sudoku Game Types/Classic Sudoku/classic-sudoku.lp\" -n 0 > \"./Sudoku Game Types/Classic Sudoku/classic-solution.txt\""
   ]
  },
  {
   "cell_type": "code",
   "execution_count": 34,
   "metadata": {
    "collapsed": true
   },
   "outputs": [
    {
     "name": "stdout",
     "output_type": "stream",
     "text": [
      "Solution : 1\u001b[33m\n",
      "9 7 6 5 2 4 8 1 3 \n",
      "5 4 2 8 1 3 7 6 9 \n",
      "1 8 3 6 7 9 5 2 4 \n",
      "7 5 8 9 3 2 6 4 1 \n",
      "6 2 1 4 5 7 3 9 8 \n",
      "4 3 9 1 6 8 2 5 7 \n",
      "8 6 5 7 4 1 9 3 2 \n",
      "2 1 7 3 9 5 4 8 6 \n",
      "3 9 4 2 8 6 1 7 5 \n",
      "\u001b[0m \n",
      "Solution : 2\u001b[33m\n",
      "7 9 6 5 2 4 8 1 3 \n",
      "4 5 2 8 1 3 7 6 9 \n",
      "1 8 3 6 7 9 5 2 4 \n",
      "5 7 8 9 3 2 6 4 1 \n",
      "6 2 1 4 5 7 3 9 8 \n",
      "9 3 4 1 6 8 2 5 7 \n",
      "8 6 5 7 4 1 9 3 2 \n",
      "2 1 7 3 9 5 4 8 6 \n",
      "3 4 9 2 8 6 1 7 5 \n",
      "\u001b[0m \n",
      "Solution : 3\u001b[33m\n",
      "9 7 6 5 2 4 8 1 3 \n",
      "2 5 4 8 1 3 7 6 9 \n",
      "1 3 8 6 7 9 5 2 4 \n",
      "5 8 7 9 3 2 6 4 1 \n",
      "6 1 2 4 5 7 3 9 8 \n",
      "4 9 3 1 6 8 2 5 7 \n",
      "8 6 5 7 4 1 9 3 2 \n",
      "7 2 1 3 9 5 4 8 6 \n",
      "3 4 9 2 8 6 1 7 5 \n",
      "\u001b[0m \n",
      "Solution : 4\u001b[33m\n",
      "9 7 6 5 2 4 8 1 3 \n",
      "2 5 4 8 1 3 7 6 9 \n",
      "1 3 8 6 7 9 5 2 4 \n",
      "5 8 7 9 3 2 6 4 1 \n",
      "6 2 1 4 5 7 3 9 8 \n",
      "4 9 3 1 6 8 2 5 7 \n",
      "8 6 5 7 4 1 9 3 2 \n",
      "7 1 2 3 9 5 4 8 6 \n",
      "3 4 9 2 8 6 1 7 5 \n",
      "\u001b[0m \n",
      "Solution : 5\u001b[33m\n",
      "6 9 7 5 2 4 8 1 3 \n",
      "4 5 2 8 1 3 7 6 9 \n",
      "1 8 3 6 7 9 5 2 4 \n",
      "5 7 8 9 3 2 6 4 1 \n",
      "2 1 6 4 5 7 3 9 8 \n",
      "9 3 4 1 6 8 2 5 7 \n",
      "8 6 5 7 4 1 9 3 2 \n",
      "7 2 1 3 9 5 4 8 6 \n",
      "3 4 9 2 8 6 1 7 5 \n",
      "\u001b[0m \n",
      "Solution : 6\u001b[33m\n",
      "6 7 9 5 2 4 8 1 3 \n",
      "4 5 2 8 1 3 7 6 9 \n",
      "1 3 8 6 7 9 5 2 4 \n",
      "5 8 7 9 3 2 6 4 1 \n",
      "2 1 6 4 5 7 3 9 8 \n",
      "9 4 3 1 6 8 2 5 7 \n",
      "8 6 5 7 4 1 9 3 2 \n",
      "7 2 1 3 9 5 4 8 6 \n",
      "3 9 4 2 8 6 1 7 5 \n",
      "\u001b[0m \n",
      "Solution : 7\u001b[33m\n",
      "9 6 7 5 2 4 8 1 3 \n",
      "5 2 4 8 1 3 7 6 9 \n",
      "8 3 1 6 7 9 5 2 4 \n",
      "7 5 8 9 3 2 6 4 1 \n",
      "2 1 6 4 5 7 3 9 8 \n",
      "4 9 3 1 6 8 2 5 7 \n",
      "6 8 5 7 4 1 9 3 2 \n",
      "1 7 2 3 9 5 4 8 6 \n",
      "3 4 9 2 8 6 1 7 5 \n",
      "\u001b[0m \n",
      "Solution : 8\u001b[33m\n",
      "9 7 6 5 2 4 8 1 3 \n",
      "5 2 4 8 1 3 7 6 9 \n",
      "1 3 8 6 7 9 5 2 4 \n",
      "8 5 7 9 3 2 6 4 1 \n",
      "2 6 1 4 5 7 3 9 8 \n",
      "4 9 3 1 6 8 2 5 7 \n",
      "6 8 5 7 4 1 9 3 2 \n",
      "7 1 2 3 9 5 4 8 6 \n",
      "3 4 9 2 8 6 1 7 5 \n",
      "\u001b[0m \n",
      "Solution : 9\u001b[33m\n",
      "9 7 6 5 2 4 8 1 3 \n",
      "5 2 4 8 1 3 7 6 9 \n",
      "8 3 1 6 7 9 5 2 4 \n",
      "7 5 8 9 3 2 6 4 1 \n",
      "1 6 2 4 5 7 3 9 8 \n",
      "4 9 3 1 6 8 2 5 7 \n",
      "6 8 5 7 4 1 9 3 2 \n",
      "2 1 7 3 9 5 4 8 6 \n",
      "3 4 9 2 8 6 1 7 5 \n",
      "\u001b[0m \n",
      "Solution : 10\u001b[33m\n",
      "9 6 7 5 2 4 8 1 3 \n",
      "2 5 4 8 1 3 7 6 9 \n",
      "8 3 1 6 7 9 5 2 4 \n",
      "5 7 8 9 3 2 6 4 1 \n",
      "1 2 6 4 5 7 3 9 8 \n",
      "4 9 3 1 6 8 2 5 7 \n",
      "6 8 5 7 4 1 9 3 2 \n",
      "7 1 2 3 9 5 4 8 6 \n",
      "3 4 9 2 8 6 1 7 5 \n",
      "\u001b[0m \n"
     ]
    }
   ],
   "source": [
    "# Visualize Solution\n",
    "!python ./tools/sudoku_solution_viz.py \"./Sudoku Game Types/Classic Sudoku/classic-solution.txt\""
   ]
  },
  {
   "cell_type": "markdown",
   "metadata": {},
   "source": [
    "## Classic Sudoku (Generated Examples)"
   ]
  },
  {
   "cell_type": "code",
   "execution_count": null,
   "metadata": {},
   "outputs": [],
   "source": []
  },
  {
   "cell_type": "markdown",
   "metadata": {},
   "source": [
    "## Diagonal Sudoku"
   ]
  },
  {
   "cell_type": "markdown",
   "metadata": {},
   "source": [
    "## Even Diagonal Sudoku Odd"
   ]
  }
 ],
 "metadata": {
  "kernelspec": {
   "display_name": "Python 3",
   "language": "python",
   "name": "python3"
  },
  "language_info": {
   "codemirror_mode": {
    "name": "ipython",
    "version": 3
   },
   "file_extension": ".py",
   "mimetype": "text/x-python",
   "name": "python",
   "nbconvert_exporter": "python",
   "pygments_lexer": "ipython3",
   "version": "3.8.8"
  }
 },
 "nbformat": 4,
 "nbformat_minor": 2
}
