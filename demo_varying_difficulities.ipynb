{
 "cells": [
  {
   "cell_type": "markdown",
   "id": "6cc14105",
   "metadata": {},
   "source": [
    "# Demonstration of Sudoku with varying difficulties"
   ]
  },
  {
   "cell_type": "markdown",
   "id": "512fcd19",
   "metadata": {},
   "source": [
    "## Initialization"
   ]
  },
  {
   "cell_type": "markdown",
   "id": "dff3ae8b",
   "metadata": {},
   "source": [
    "### Run any of the three cells below to select difficulty"
   ]
  },
  {
   "cell_type": "code",
   "execution_count": null,
   "id": "17964646",
   "metadata": {},
   "outputs": [],
   "source": [
    "#Run this for easy difficulty\n",
    "difficulty = 0.5"
   ]
  },
  {
   "cell_type": "code",
   "execution_count": null,
   "id": "e981afa6",
   "metadata": {},
   "outputs": [],
   "source": [
    "#Run this for medium difficulty\n",
    "difficulty = 0.65"
   ]
  },
  {
   "cell_type": "code",
   "execution_count": null,
   "id": "ddf83868",
   "metadata": {},
   "outputs": [],
   "source": [
    "#Run this for hard difficulty\n",
    "difficulty = 0.8"
   ]
  },
  {
   "cell_type": "markdown",
   "id": "18113945",
   "metadata": {},
   "source": [
    "### Choose a seed to generate problem"
   ]
  },
  {
   "cell_type": "code",
   "execution_count": null,
   "id": "3c39a6f5",
   "metadata": {},
   "outputs": [],
   "source": [
    "# Find a random seed\n",
    "!echo %RANDOM%"
   ]
  },
  {
   "cell_type": "code",
   "execution_count": null,
   "id": "d04f3202",
   "metadata": {},
   "outputs": [],
   "source": [
    "# Set a seed\n",
    "seed = 12345"
   ]
  },
  {
   "cell_type": "markdown",
   "id": "14238d09",
   "metadata": {},
   "source": [
    "## Classic Sudoku"
   ]
  },
  {
   "cell_type": "markdown",
   "id": "a9d2507b",
   "metadata": {},
   "source": [
    "### Generate a full sudoku board -> remove difficulty% entries to transform it into problem"
   ]
  },
  {
   "cell_type": "code",
   "execution_count": null,
   "id": "4014bd28",
   "metadata": {},
   "outputs": [],
   "source": [
    "# Generate a full sudoku board\n",
    "# Generate a full board and save it as txt file\n",
    "# DO NOT SET THIRD COMMAND LINE ARG '-n' TO ZERO\n",
    "# Change seed to see different boards built\n",
    "!clingo -n 1 --rand-freq=1 --seed={seed} \"./Sudoku Game Types/Classic Sudoku/classic-sudoku.lp\" > \"./generated/classic_board_gen_var.txt\"\n",
    "# Display Full Board\n",
    "!python ./tools/sudoku_solution_viz.py \"./generated/classic_board_gen_var.txt\""
   ]
  },
  {
   "cell_type": "code",
   "execution_count": null,
   "id": "3ddc0239",
   "metadata": {},
   "outputs": [],
   "source": [
    "# n% to remove an entry\n",
    "!python ./tools/sudoku_remove.py \"./generated/classic_board_gen_var.txt\" {difficulty} \"./generated/classic_problem_gen_var.lp\"\n",
    "# Display Problem\n",
    "!python ./tools/sudoku_problem_viz.py \"./generated/classic_problem_gen_var.lp\""
   ]
  },
  {
   "cell_type": "markdown",
   "id": "68213756",
   "metadata": {},
   "source": [
    "### Solve problem"
   ]
  },
  {
   "cell_type": "code",
   "execution_count": null,
   "id": "dbc99cbf",
   "metadata": {},
   "outputs": [],
   "source": [
    "# Initialize how many solutions to output\n",
    "n = 1\n",
    "# Set new seed to find different solutions\n",
    "seed = 12345"
   ]
  },
  {
   "cell_type": "code",
   "execution_count": null,
   "id": "4b38daa4",
   "metadata": {},
   "outputs": [],
   "source": [
    "# Run solver\n",
    "# May find different solution than expected\n",
    "!clingo \"./generated/classic_problem_gen.lp\" \"./Sudoku Game Types/Classic Sudoku/classic-sudoku.lp\" -n {n} --rand-freq=1 --seed={seed} > \"./generated/classic_solution_gen_var.txt\"\n",
    "# Visualize Solution\n",
    "!python ./tools/sudoku_solution_viz.py \"./generated/classic_solution_gen_var.txt\""
   ]
  },
  {
   "cell_type": "markdown",
   "id": "988ff3c9",
   "metadata": {},
   "source": [
    "## Diagonal Sudoku"
   ]
  },
  {
   "cell_type": "markdown",
   "id": "37fe8ec4",
   "metadata": {},
   "source": [
    "### Generate a full sudoku board -> remove difficulty% entries to transform it into problem"
   ]
  },
  {
   "cell_type": "code",
   "execution_count": null,
   "id": "6bd316b5",
   "metadata": {},
   "outputs": [],
   "source": [
    "# Generate a full sudoku board\n",
    "# Generate a full board and save it as txt file\n",
    "# DO NOT SET THIRD COMMAND LINE ARG '-n' TO ZERO\n",
    "# Change seed to see different boards built\n",
    "!clingo -n 1 --rand-freq=1 --seed={seed} \"./Sudoku Game Types/Diagonal Sudoku/diagonal-sudoku.lp\" > \"./generated/diagonal_board_gen_var.txt\"\n",
    "# Display Full Board\n",
    "!python ./tools/sudoku_solution_viz.py \"./generated/diagonal_board_gen_var.txt\""
   ]
  },
  {
   "cell_type": "code",
   "execution_count": null,
   "id": "8b160ac2",
   "metadata": {},
   "outputs": [],
   "source": [
    "# n% to remove an entry\n",
    "!python ./tools/sudoku_remove.py \"./generated/diagonal_board_gen_var.txt\" {difficulty} \"./generated/diagonal_problem_gen_var.lp\"\n",
    "# Display Problem\n",
    "!python ./tools/sudoku_problem_viz.py \"./generated/diagonal_problem_gen_var.lp\""
   ]
  },
  {
   "cell_type": "markdown",
   "id": "48f9c454",
   "metadata": {},
   "source": [
    "### Solve problem"
   ]
  },
  {
   "cell_type": "code",
   "execution_count": null,
   "id": "4a47161a",
   "metadata": {},
   "outputs": [],
   "source": [
    "# Initialize how many solutions to output\n",
    "n = 1\n",
    "# Set new seed to find different solutions\n",
    "seed = 12345"
   ]
  },
  {
   "cell_type": "code",
   "execution_count": null,
   "id": "029d7f06",
   "metadata": {},
   "outputs": [],
   "source": [
    "# Run solver\n",
    "# May find different solution than expected\n",
    "!clingo \"./generated/diagonal_problem_gen_var.lp\" \"./Sudoku Game Types/Diagonal Sudoku/diagonal-sudoku.lp\" -n {n} --rand-freq=1 --seed={seed} > \"./generated/diagonal_solution_gen_var.txt\"\n",
    "# Visualize Solution\n",
    "!python ./tools/sudoku_solution_viz.py \"./generated/diagonal_solution_gen_var.txt\""
   ]
  }
 ],
 "metadata": {
  "kernelspec": {
   "display_name": "Python 3",
   "language": "python",
   "name": "python3"
  },
  "language_info": {
   "codemirror_mode": {
    "name": "ipython",
    "version": 3
   },
   "file_extension": ".py",
   "mimetype": "text/x-python",
   "name": "python",
   "nbconvert_exporter": "python",
   "pygments_lexer": "ipython3",
   "version": "3.8.8"
  }
 },
 "nbformat": 4,
 "nbformat_minor": 5
}
